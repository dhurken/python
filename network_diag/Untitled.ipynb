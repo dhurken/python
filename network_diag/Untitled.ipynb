{
 "cells": [
  {
   "cell_type": "code",
   "execution_count": 20,
   "metadata": {},
   "outputs": [],
   "source": [
    "import matplotlib.pyplot as plt\n",
    "import networkx as nx\n",
    "import PIL"
   ]
  },
  {
   "cell_type": "code",
   "execution_count": 21,
   "metadata": {},
   "outputs": [],
   "source": [
    "#images for nodes\n",
    "icons = {\n",
    "    \"router\": \"C:\\\\Users\\\\cstuart\\\\Desktop\\\\git\\\\pers\\\\misc\\\\python\\\\network_diag\\\\icons\\\\png\\\\router.png\",\n",
    "    \"switch\": \"C:\\\\Users\\\\cstuart\\\\Desktop\\\\git\\\\pers\\\\misc\\\\python\\\\network_diag\\\\icons\\\\png\\\\switch.png\",\n",
    "    \"computer\": \"C:\\\\Users\\\\cstuart\\\\Desktop\\\\git\\\\pers\\\\misc\\\\python\\\\network_diag\\\\icons\\\\png\\\\computer.png\",\n",
    "    \"server\": \"C:\\\\Users\\\\cstuart\\\\Desktop\\\\git\\\\pers\\\\misc\\\\python\\\\network_diag\\\\icons\\\\png\\\\server.png\",\n",
    "}\n",
    "\n",
    "#load defined images\n",
    "images = {k: PIL.Image.open(fname) for k, fname in icons.items()}"
   ]
  },
  {
   "cell_type": "code",
   "execution_count": 22,
   "metadata": {},
   "outputs": [],
   "source": [
    "# Generate the computer network graph\n",
    "G = nx.Graph()\n",
    "\n",
    "G.add_node(\"router\", image=images[\"router\"])\n",
    "for i in range(1, 4):\n",
    "    G.add_node(f\"switch_{i}\", image=images[\"switch\"])\n",
    "    for j in range(1, 4):\n",
    "        G.add_node(\"computer_\" + str(i) + \"_\" + str(j), image=images[\"computer\"])\n",
    "\n",
    "G.add_edge(\"router\", \"switch_1\")\n",
    "G.add_edge(\"router\", \"switch_2\")\n",
    "G.add_edge(\"router\", \"switch_3\")\n",
    "for u in range(1, 4):\n",
    "    for v in range(1, 4):\n",
    "        G.add_edge(\"switch_\" + str(u), \"computer_\" + str(u) + \"_\" + str(v))"
   ]
  },
  {
   "cell_type": "code",
   "execution_count": 23,
   "metadata": {},
   "outputs": [
    {
     "name": "stderr",
     "output_type": "stream",
     "text": [
      "C:\\Users\\cstuart\\AppData\\Local\\Continuum\\anaconda3\\lib\\site-packages\\networkx\\drawing\\nx_pylab.py:579: MatplotlibDeprecationWarning: \n",
      "The iterable function was deprecated in Matplotlib 3.1 and will be removed in 3.3. Use np.iterable instead.\n",
      "  if not cb.iterable(width):\n"
     ]
    },
    {
     "data": {
      "image/png": "[encoded data removed]",
      "text/plain": [
       "<Figure size 432x288 with 14 Axes>"
      ]
     },
     "metadata": {
      "needs_background": "light"
     },
     "output_type": "display_data"
    }
   ],
   "source": [
    "# Get a reproducible layout and create figure\n",
    "pos = nx.spring_layout(G, seed=1734289230)\n",
    "fig, ax = plt.subplots()\n",
    "\n",
    "# Note: the min_source/target_margin kwargs only work with FancyArrowPatch objects.\n",
    "# Force the use of FancyArrowPatch for edge drawing by setting `arrows=True`,\n",
    "# but suppress arrowheads with `arrowstyle=\"-\"`\n",
    "nx.draw_networkx_edges(\n",
    "    G,\n",
    "    pos=pos,\n",
    "    ax=ax,\n",
    "    arrows=True,\n",
    "    arrowstyle=\"-\",\n",
    "    min_source_margin=15,\n",
    "    min_target_margin=15,\n",
    ")\n",
    "# Transform from data coordinates (scaled between xlim and ylim) to display coordinates\n",
    "tr_figure = ax.transData.transform\n",
    "# Transform from display to figure coordinates\n",
    "tr_axes = fig.transFigure.inverted().transform\n",
    "\n",
    "# Select the size of the image (relative to the X axis)\n",
    "icon_size = (ax.get_xlim()[1] - ax.get_xlim()[0]) * 0.025\n",
    "icon_center = icon_size / 2.0\n",
    "\n",
    "# Add the respective image to each node\n",
    "for n in G.nodes:\n",
    "    xf, yf = tr_figure(pos[n])\n",
    "    xa, ya = tr_axes((xf, yf))\n",
    "    # get overlapped axes and plot icon\n",
    "    a = plt.axes([xa - icon_center, ya - icon_center, icon_size, icon_size])\n",
    "    a.imshow(G.nodes[n][\"image\"])\n",
    "    a.axis(\"off\")\n",
    "plt.show()"
   ]
  },
  {
   "cell_type": "code",
   "execution_count": null,
   "metadata": {},
   "outputs": [],
   "source": []
  },
  {
   "cell_type": "code",
   "execution_count": null,
   "metadata": {},
   "outputs": [],
   "source": []
  }
 ],
 "metadata": {
  "kernelspec": {
   "display_name": "Python 3",
   "language": "python",
   "name": "python3"
  },
  "language_info": {
   "codemirror_mode": {
    "name": "ipython",
    "version": 3
   },
   "file_extension": ".py",
   "mimetype": "text/x-python",
   "name": "python",
   "nbconvert_exporter": "python",
   "pygments_lexer": "ipython3",
   "version": "3.7.4"
  }
 },
 "nbformat": 4,
 "nbformat_minor": 2
}
